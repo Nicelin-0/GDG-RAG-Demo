{
 "cells": [
  {
   "cell_type": "code",
   "execution_count": null,
   "id": "ee48adff-b8aa-49d9-99b4-0fd3cd48ab25",
   "metadata": {},
   "outputs": [],
   "source": []
  }
 ],
 "metadata": {
  "kernelspec": {
   "display_name": "",
   "name": ""
  },
  "language_info": {
   "name": ""
  }
 },
 "nbformat": 4,
 "nbformat_minor": 5
}
