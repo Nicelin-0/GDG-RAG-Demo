{
 "cells": [
  {
   "cell_type": "markdown",
   "id": "ed4efc05-6065-497c-b28f-1c3d7c0ecc46",
   "metadata": {},
   "source": [
    "# Streamlit frontend for simple RAG"
   ]
  },
  {
   "cell_type": "markdown",
   "id": "6c13ad31-dbca-4d1a-a24f-3852fd6ce046",
   "metadata": {},
   "source": [
    "## Installing required libraries"
   ]
  },
  {
   "cell_type": "code",
   "execution_count": 3,
   "id": "b39b1624-b640-46f5-b227-e4bcc46b1850",
   "metadata": {
    "scrolled": true
   },
   "outputs": [
    {
     "name": "stdout",
     "output_type": "stream",
     "text": [
      "Requirement already satisfied: streamlit in c:\\anaconda\\lib\\site-packages (1.37.1)\n",
      "Collecting streamlit_chat\n",
      "  Downloading streamlit_chat-0.1.1-py3-none-any.whl.metadata (4.2 kB)\n",
      "Requirement already satisfied: altair<6,>=4.0 in c:\\anaconda\\lib\\site-packages (from streamlit) (5.0.1)\n",
      "Requirement already satisfied: blinker<2,>=1.0.0 in c:\\anaconda\\lib\\site-packages (from streamlit) (1.6.2)\n",
      "Requirement already satisfied: cachetools<6,>=4.0 in c:\\users\\aditya uni\\appdata\\roaming\\python\\python312\\site-packages (from streamlit) (5.5.0)\n",
      "Requirement already satisfied: click<9,>=7.0 in c:\\anaconda\\lib\\site-packages (from streamlit) (8.1.7)\n",
      "Requirement already satisfied: numpy<3,>=1.20 in c:\\users\\aditya uni\\appdata\\roaming\\python\\python312\\site-packages (from streamlit) (1.26.4)\n",
      "Requirement already satisfied: packaging<25,>=20 in c:\\users\\aditya uni\\appdata\\roaming\\python\\python312\\site-packages (from streamlit) (23.2)\n",
      "Requirement already satisfied: pandas<3,>=1.3.0 in c:\\users\\aditya uni\\appdata\\roaming\\python\\python312\\site-packages (from streamlit) (2.2.3)\n",
      "Collecting pillow<11,>=7.1.0 (from streamlit)\n",
      "  Downloading pillow-10.4.0-cp312-cp312-win_amd64.whl.metadata (9.3 kB)\n",
      "Requirement already satisfied: protobuf<6,>=3.20 in c:\\users\\aditya uni\\appdata\\roaming\\python\\python312\\site-packages (from streamlit) (4.25.5)\n",
      "Requirement already satisfied: pyarrow>=7.0 in c:\\anaconda\\lib\\site-packages (from streamlit) (16.1.0)\n",
      "Requirement already satisfied: requests<3,>=2.27 in c:\\users\\aditya uni\\appdata\\roaming\\python\\python312\\site-packages (from streamlit) (2.32.3)\n",
      "Requirement already satisfied: rich<14,>=10.14.0 in c:\\anaconda\\lib\\site-packages (from streamlit) (13.7.1)\n",
      "Requirement already satisfied: tenacity<9,>=8.1.0 in c:\\anaconda\\lib\\site-packages (from streamlit) (8.2.3)\n",
      "Requirement already satisfied: toml<2,>=0.10.1 in c:\\anaconda\\lib\\site-packages (from streamlit) (0.10.2)\n",
      "Requirement already satisfied: typing-extensions<5,>=4.3.0 in c:\\users\\aditya uni\\appdata\\roaming\\python\\python312\\site-packages (from streamlit) (4.12.2)\n",
      "Requirement already satisfied: gitpython!=3.1.19,<4,>=3.0.7 in c:\\anaconda\\lib\\site-packages (from streamlit) (3.1.43)\n",
      "Requirement already satisfied: pydeck<1,>=0.8.0b4 in c:\\anaconda\\lib\\site-packages (from streamlit) (0.8.0)\n",
      "Requirement already satisfied: tornado<7,>=6.0.3 in c:\\anaconda\\lib\\site-packages (from streamlit) (6.4.1)\n",
      "Requirement already satisfied: watchdog<5,>=2.1.5 in c:\\anaconda\\lib\\site-packages (from streamlit) (4.0.1)\n",
      "Requirement already satisfied: jinja2 in c:\\users\\aditya uni\\appdata\\roaming\\python\\python312\\site-packages (from altair<6,>=4.0->streamlit) (3.1.4)\n",
      "Requirement already satisfied: jsonschema>=3.0 in c:\\anaconda\\lib\\site-packages (from altair<6,>=4.0->streamlit) (4.23.0)\n",
      "Requirement already satisfied: toolz in c:\\anaconda\\lib\\site-packages (from altair<6,>=4.0->streamlit) (0.12.0)\n",
      "Requirement already satisfied: colorama in c:\\users\\aditya uni\\appdata\\roaming\\python\\python312\\site-packages (from click<9,>=7.0->streamlit) (0.4.6)\n",
      "Requirement already satisfied: gitdb<5,>=4.0.1 in c:\\anaconda\\lib\\site-packages (from gitpython!=3.1.19,<4,>=3.0.7->streamlit) (4.0.7)\n",
      "Requirement already satisfied: python-dateutil>=2.8.2 in c:\\users\\aditya uni\\appdata\\roaming\\python\\python312\\site-packages (from pandas<3,>=1.3.0->streamlit) (2.9.0.post0)\n",
      "Requirement already satisfied: pytz>=2020.1 in c:\\users\\aditya uni\\appdata\\roaming\\python\\python312\\site-packages (from pandas<3,>=1.3.0->streamlit) (2024.2)\n",
      "Requirement already satisfied: tzdata>=2022.7 in c:\\users\\aditya uni\\appdata\\roaming\\python\\python312\\site-packages (from pandas<3,>=1.3.0->streamlit) (2024.2)\n",
      "Requirement already satisfied: charset-normalizer<4,>=2 in c:\\users\\aditya uni\\appdata\\roaming\\python\\python312\\site-packages (from requests<3,>=2.27->streamlit) (3.4.0)\n",
      "Requirement already satisfied: idna<4,>=2.5 in c:\\users\\aditya uni\\appdata\\roaming\\python\\python312\\site-packages (from requests<3,>=2.27->streamlit) (3.10)\n",
      "Requirement already satisfied: urllib3<3,>=1.21.1 in c:\\users\\aditya uni\\appdata\\roaming\\python\\python312\\site-packages (from requests<3,>=2.27->streamlit) (2.2.3)\n",
      "Requirement already satisfied: certifi>=2017.4.17 in c:\\users\\aditya uni\\appdata\\roaming\\python\\python312\\site-packages (from requests<3,>=2.27->streamlit) (2024.8.30)\n",
      "Requirement already satisfied: markdown-it-py>=2.2.0 in c:\\anaconda\\lib\\site-packages (from rich<14,>=10.14.0->streamlit) (2.2.0)\n",
      "Requirement already satisfied: pygments<3.0.0,>=2.13.0 in c:\\anaconda\\lib\\site-packages (from rich<14,>=10.14.0->streamlit) (2.15.1)\n",
      "Requirement already satisfied: smmap<5,>=3.0.1 in c:\\anaconda\\lib\\site-packages (from gitdb<5,>=4.0.1->gitpython!=3.1.19,<4,>=3.0.7->streamlit) (4.0.0)\n",
      "Requirement already satisfied: MarkupSafe>=2.0 in c:\\users\\aditya uni\\appdata\\roaming\\python\\python312\\site-packages (from jinja2->altair<6,>=4.0->streamlit) (3.0.2)\n",
      "Requirement already satisfied: attrs>=22.2.0 in c:\\users\\aditya uni\\appdata\\roaming\\python\\python312\\site-packages (from jsonschema>=3.0->altair<6,>=4.0->streamlit) (24.3.0)\n",
      "Requirement already satisfied: jsonschema-specifications>=2023.03.6 in c:\\anaconda\\lib\\site-packages (from jsonschema>=3.0->altair<6,>=4.0->streamlit) (2023.7.1)\n",
      "Requirement already satisfied: referencing>=0.28.4 in c:\\anaconda\\lib\\site-packages (from jsonschema>=3.0->altair<6,>=4.0->streamlit) (0.30.2)\n",
      "Requirement already satisfied: rpds-py>=0.7.1 in c:\\anaconda\\lib\\site-packages (from jsonschema>=3.0->altair<6,>=4.0->streamlit) (0.10.6)\n",
      "Requirement already satisfied: mdurl~=0.1 in c:\\anaconda\\lib\\site-packages (from markdown-it-py>=2.2.0->rich<14,>=10.14.0->streamlit) (0.1.0)\n",
      "Requirement already satisfied: six>=1.5 in c:\\users\\aditya uni\\appdata\\roaming\\python\\python312\\site-packages (from python-dateutil>=2.8.2->pandas<3,>=1.3.0->streamlit) (1.17.0)\n",
      "Downloading streamlit_chat-0.1.1-py3-none-any.whl (1.2 MB)\n",
      "   ---------------------------------------- 0.0/1.2 MB ? eta -:--:--\n",
      "   ---------------------------------------- 1.2/1.2 MB 31.1 MB/s eta 0:00:00\n",
      "Downloading pillow-10.4.0-cp312-cp312-win_amd64.whl (2.6 MB)\n",
      "   ---------------------------------------- 0.0/2.6 MB ? eta -:--:--\n",
      "   -------------------------------- ------- 2.1/2.6 MB 10.7 MB/s eta 0:00:01\n",
      "   ---------------------------------------- 2.6/2.6 MB 9.8 MB/s eta 0:00:00\n",
      "Installing collected packages: pillow, streamlit_chat\n",
      "  Attempting uninstall: pillow\n",
      "    Found existing installation: pillow 11.0.0\n",
      "    Uninstalling pillow-11.0.0:\n",
      "      Successfully uninstalled pillow-11.0.0\n",
      "Successfully installed pillow-10.4.0 streamlit_chat-0.1.1\n"
     ]
    },
    {
     "name": "stderr",
     "output_type": "stream",
     "text": [
      "ERROR: pip's dependency resolver does not currently take into account all the packages that are installed. This behaviour is the source of the following dependency conflicts.\n",
      "roboflow 1.1.50 requires idna==3.7, but you have idna 3.10 which is incompatible.\n"
     ]
    }
   ],
   "source": [
    "!pip install streamlit streamlit_chat"
   ]
  },
  {
   "cell_type": "markdown",
   "id": "c5d35b81-0bc9-4da4-8a05-4dea40b27f6f",
   "metadata": {},
   "source": [
    "## Importing required libraries"
   ]
  },
  {
   "cell_type": "code",
   "execution_count": 6,
   "id": "26725b29-4625-4a22-8def-fb31157cd24d",
   "metadata": {},
   "outputs": [],
   "source": [
    "import os\n",
    "import tempfile \n",
    "import streamlit as st\n",
    "from streamlit_chat import message\n",
    "\n",
    "# This is going to refer the code given for the simple RAG, this wont run now as this is a notebook that has the code. \n",
    "# The notebooks are references for you to take the code from\n",
    "# from rag import ChatPDF\n",
    "\n",
    "# Set title for the page\n",
    "st.set_page_config(page_title = \"ChatPDF\")\n",
    "\n",
    "def display_messages():\n",
    "    st.subheader(\"Chat\")\n",
    "    for i, (msg, is_user) in enumerate(st.session_state[\"messages\"]):\n",
    "        message(msg, is_user=is_user, key=str(i))\n",
    "    st.session_state[\"thinking_spinner\"] = st.empty()\n",
    "\n",
    "\n",
    "def process_input():\n",
    "    if st.session_state[\"user_input\"] and len(st.session_state[\"user_input\"].strip()) > 0:\n",
    "        user_text = st.session_state[\"user_input\"].strip()\n",
    "        with st.session_state[\"thinking_spinner\"], st.spinner(f\"Thinking\"):\n",
    "            agent_text = st.session_state[\"assistant\"].ask(user_text)\n",
    "\n",
    "        st.session_state[\"messages\"].append((user_text, True))\n",
    "        st.session_state[\"messages\"].append((agent_text, False))\n",
    "\n",
    "\n",
    "def read_and_save_file():\n",
    "    st.session_state[\"assistant\"].clear()\n",
    "    st.session_state[\"messages\"] = []\n",
    "    st.session_state[\"user_input\"] = \"\"\n",
    "\n",
    "    for file in st.session_state[\"file_uploader\"]:\n",
    "        with tempfile.NamedTemporaryFile(delete=False) as tf:\n",
    "            tf.write(file.getbuffer())\n",
    "            file_path = tf.name\n",
    "\n",
    "        with st.session_state[\"ingestion_spinner\"], st.spinner(f\"Ingesting {file.name}\"):\n",
    "            st.session_state[\"assistant\"].ingest(file_path)\n",
    "        os.remove(file_path)\n",
    "\n",
    "\n",
    "def page():\n",
    "    if len(st.session_state) == 0:\n",
    "        st.session_state[\"messages\"] = []\n",
    "        st.session_state[\"assistant\"] = ChatPDF()\n",
    "\n",
    "    st.header(\"ChatPDF\")\n",
    "\n",
    "    st.subheader(\"Upload a document\")\n",
    "    st.file_uploader(\n",
    "        \"Upload document\",\n",
    "        type=[\"pdf\"],\n",
    "        key=\"file_uploader\",\n",
    "        on_change=read_and_save_file,\n",
    "        label_visibility=\"collapsed\",\n",
    "        accept_multiple_files=True,\n",
    "    )\n",
    "\n",
    "    st.session_state[\"ingestion_spinner\"] = st.empty()\n",
    "\n",
    "    display_messages()\n",
    "    st.text_input(\"Message\", key=\"user_input\", on_change=process_input)\n",
    "\n",
    "\n",
    "if __name__ == \"__main__\":\n",
    "    page()"
   ]
  }
 ],
 "metadata": {
  "kernelspec": {
   "display_name": "Python 3 (ipykernel)",
   "language": "python",
   "name": "python3"
  },
  "language_info": {
   "codemirror_mode": {
    "name": "ipython",
    "version": 3
   },
   "file_extension": ".py",
   "mimetype": "text/x-python",
   "name": "python",
   "nbconvert_exporter": "python",
   "pygments_lexer": "ipython3",
   "version": "3.12.7"
  }
 },
 "nbformat": 4,
 "nbformat_minor": 5
}
